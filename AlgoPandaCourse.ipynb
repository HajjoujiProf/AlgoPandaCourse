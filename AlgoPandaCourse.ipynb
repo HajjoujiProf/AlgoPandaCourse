{
  "nbformat": 4,
  "nbformat_minor": 0,
  "metadata": {
    "colab": {
      "provenance": [],
      "authorship_tag": "ABX9TyPYcm6nkkuPB69StmX18lLK",
      "include_colab_link": true
    },
    "kernelspec": {
      "name": "python3",
      "display_name": "Python 3"
    },
    "language_info": {
      "name": "python"
    }
  },
  "cells": [
    {
      "cell_type": "markdown",
      "metadata": {
        "id": "view-in-github",
        "colab_type": "text"
      },
      "source": [
        "<a href=\"https://colab.research.google.com/github/HajjoujiProf/AlgoPandaCourse/blob/main/AlgoPandaCourse.ipynb\" target=\"_parent\"><img src=\"https://colab.research.google.com/assets/colab-badge.svg\" alt=\"Open In Colab\"/></a>"
      ]
    },
    {
      "cell_type": "code",
      "metadata": {
        "colab": {
          "base_uri": "https://localhost:8080/",
          "height": 35
        },
        "id": "KVm0-6VVJoQj",
        "outputId": "74576ff5-0ac3-4c76-dbfc-222225215ca0"
      },
      "source": [
        "import pandas as pd\n",
        "import matplotlib.pyplot as plt\n",
        "import seaborn as sns\n",
        "pd.__version__"
      ],
      "execution_count": null,
      "outputs": [
        {
          "output_type": "execute_result",
          "data": {
            "application/vnd.google.colaboratory.intrinsic+json": {
              "type": "string"
            },
            "text/plain": [
              "'1.1.5'"
            ]
          },
          "metadata": {},
          "execution_count": 1
        }
      ]
    },
    {
      "cell_type": "code",
      "metadata": {
        "id": "9sXD_cunK_Nk"
      },
      "source": [],
      "execution_count": null,
      "outputs": []
    },
    {
      "cell_type": "code",
      "metadata": {
        "id": "vACMzZ2-LCet"
      },
      "source": [
        "import pandas as pd\n",
        "num = pd.Series([8,53,9,42,15])"
      ],
      "execution_count": null,
      "outputs": []
    },
    {
      "cell_type": "code",
      "metadata": {
        "colab": {
          "base_uri": "https://localhost:8080/"
        },
        "id": "qeWi1Na0L6Tq",
        "outputId": "7dc019db-d98b-4e39-e892-d033dc0c3eca"
      },
      "source": [
        "num"
      ],
      "execution_count": null,
      "outputs": [
        {
          "output_type": "execute_result",
          "data": {
            "text/plain": [
              "0     8\n",
              "1    53\n",
              "2     9\n",
              "3    42\n",
              "4    15\n",
              "dtype: int64"
            ]
          },
          "metadata": {},
          "execution_count": 10
        }
      ]
    },
    {
      "cell_type": "code",
      "metadata": {
        "id": "MKMcA1eSPYk-"
      },
      "source": [
        "import pandas as pd\n",
        "name = pd.Series(['United States','Saudi Arabia','Russia','China','Canada'],['1','2','3','4','5'])"
      ],
      "execution_count": null,
      "outputs": []
    },
    {
      "cell_type": "code",
      "metadata": {
        "colab": {
          "base_uri": "https://localhost:8080/"
        },
        "id": "q_CXv9TyQpOv",
        "outputId": "96773b43-1b68-4238-d50d-15ebbffbf8f3"
      },
      "source": [
        "name"
      ],
      "execution_count": null,
      "outputs": [
        {
          "output_type": "execute_result",
          "data": {
            "text/plain": [
              "1    United States\n",
              "2     Saudi Arabia\n",
              "3           Russia\n",
              "4            China\n",
              "5           Canada\n",
              "dtype: object"
            ]
          },
          "metadata": {},
          "execution_count": 11
        }
      ]
    },
    {
      "cell_type": "code",
      "metadata": {
        "colab": {
          "base_uri": "https://localhost:8080/",
          "height": 35
        },
        "id": "Uxs3Y23mU9m7",
        "outputId": "f8f6825e-951f-452a-8b73-54235aac4b67"
      },
      "source": [
        "name.loc['3']"
      ],
      "execution_count": null,
      "outputs": [
        {
          "output_type": "execute_result",
          "data": {
            "application/vnd.google.colaboratory.intrinsic+json": {
              "type": "string"
            },
            "text/plain": [
              "'Russia'"
            ]
          },
          "metadata": {},
          "execution_count": 12
        }
      ]
    },
    {
      "cell_type": "code",
      "metadata": {
        "id": "Rv3XcgVcWHCh"
      },
      "source": [
        "import pandas as pd\n",
        "df = pd.DataFrame({'Country':['китай','Марокко','США','Россия'],'Code':['86','212','1','7'],'Population':['1,330,044,000','31,627,428','310,232,863','140,702,000']})"
      ],
      "execution_count": null,
      "outputs": []
    },
    {
      "cell_type": "code",
      "metadata": {
        "colab": {
          "base_uri": "https://localhost:8080/",
          "height": 173
        },
        "id": "94QrdH3ydYDg",
        "outputId": "190ce7a0-93ce-4b07-a946-c4d480e22683"
      },
      "source": [
        "df\n"
      ],
      "execution_count": null,
      "outputs": [
        {
          "output_type": "execute_result",
          "data": {
            "text/html": [
              "<div>\n",
              "<style scoped>\n",
              "    .dataframe tbody tr th:only-of-type {\n",
              "        vertical-align: middle;\n",
              "    }\n",
              "\n",
              "    .dataframe tbody tr th {\n",
              "        vertical-align: top;\n",
              "    }\n",
              "\n",
              "    .dataframe thead th {\n",
              "        text-align: right;\n",
              "    }\n",
              "</style>\n",
              "<table border=\"1\" class=\"dataframe\">\n",
              "  <thead>\n",
              "    <tr style=\"text-align: right;\">\n",
              "      <th></th>\n",
              "      <th>Country</th>\n",
              "      <th>Code</th>\n",
              "      <th>Population</th>\n",
              "    </tr>\n",
              "  </thead>\n",
              "  <tbody>\n",
              "    <tr>\n",
              "      <th>0</th>\n",
              "      <td>китай</td>\n",
              "      <td>86</td>\n",
              "      <td>1,330,044,000</td>\n",
              "    </tr>\n",
              "    <tr>\n",
              "      <th>1</th>\n",
              "      <td>Марокко</td>\n",
              "      <td>212</td>\n",
              "      <td>31,627,428</td>\n",
              "    </tr>\n",
              "    <tr>\n",
              "      <th>2</th>\n",
              "      <td>США</td>\n",
              "      <td>1</td>\n",
              "      <td>310,232,863</td>\n",
              "    </tr>\n",
              "    <tr>\n",
              "      <th>3</th>\n",
              "      <td>Россия</td>\n",
              "      <td>7</td>\n",
              "      <td>140,702,000</td>\n",
              "    </tr>\n",
              "  </tbody>\n",
              "</table>\n",
              "</div>"
            ],
            "text/plain": [
              "   Country Code     Population\n",
              "0    китай   86  1,330,044,000\n",
              "1  Марокко  212     31,627,428\n",
              "2      США    1    310,232,863\n",
              "3   Россия    7    140,702,000"
            ]
          },
          "metadata": {},
          "execution_count": 15
        }
      ]
    },
    {
      "cell_type": "code",
      "metadata": {
        "id": "agtglbG0eI_C"
      },
      "source": [
        "import pandas as pd\n",
        "df = pd.DataFrame({'Country':['китай','Марокко','США','Россия'],'Code':['86','212','1','7'],'Population':['1,330,044,000','31,627,428','310,232,863','140,702,000']},index=['1','2','3','4'])"
      ],
      "execution_count": null,
      "outputs": []
    },
    {
      "cell_type": "code",
      "metadata": {
        "colab": {
          "base_uri": "https://localhost:8080/"
        },
        "id": "lHAkPJxKeedK",
        "outputId": "353c9f48-3bd3-4fdf-9793-4f7ba003788d"
      },
      "source": [
        "df.Population"
      ],
      "execution_count": null,
      "outputs": [
        {
          "output_type": "execute_result",
          "data": {
            "text/plain": [
              "0    1,330,044,000\n",
              "1       31,627,428\n",
              "2      310,232,863\n",
              "3      140,702,000\n",
              "Name: Population, dtype: object"
            ]
          },
          "metadata": {},
          "execution_count": 18
        }
      ]
    },
    {
      "cell_type": "code",
      "metadata": {
        "colab": {
          "base_uri": "https://localhost:8080/"
        },
        "id": "ZDrmnFcJexS2",
        "outputId": "8495290d-6274-4d9e-8bed-9343fc5b9a9a"
      },
      "source": [
        "df.loc['4']"
      ],
      "execution_count": null,
      "outputs": [
        {
          "output_type": "execute_result",
          "data": {
            "text/plain": [
              "Country            Россия\n",
              "Code                    7\n",
              "Population    140,702,000\n",
              "Name: 4, dtype: object"
            ]
          },
          "metadata": {},
          "execution_count": 23
        }
      ]
    }
  ]
}